{
 "cells": [
  {
   "cell_type": "code",
   "execution_count": 52,
   "metadata": {
    "collapsed": false
   },
   "outputs": [],
   "source": [
    "import numpy as np\n",
    "import math as math\n",
    "\n",
    "train_data = []\n",
    "train_labels = []\n",
    "test_data = []\n",
    "test_labels = []\n",
    "\n",
    "with open(\"hw6train.txt\") as train_file:\n",
    "    for data_point in train_file.readlines():\n",
    "        vector = [int(i) for i in data_point.split()]\n",
    "        train_data.append(np.array(vector[:-1]))\n",
    "        train_labels.append(int(vector[-1]))\n",
    "\n",
    "with open(\"hw6test.txt\") as train_file:\n",
    "    for data_point in train_file.readlines():\n",
    "        vector = [int(i) for i in data_point.split()]\n",
    "        train_data.append(np.array(vector[:-1]))\n",
    "        train_labels.append(int(vector[-1]))\n",
    "        "
   ]
  },
  {
   "cell_type": "code",
   "execution_count": 53,
   "metadata": {
    "collapsed": false
   },
   "outputs": [],
   "source": [
    "def weak_pos_learner(value):\n",
    "    return 1 if value == 1 else -1"
   ]
  },
  {
   "cell_type": "code",
   "execution_count": 85,
   "metadata": {
    "collapsed": false
   },
   "outputs": [],
   "source": [
    "def weak_neg_learner(value):\n",
    "    return 1 if value == 0 else -1    "
   ]
  },
  {
   "cell_type": "code",
   "execution_count": 55,
   "metadata": {
    "collapsed": true
   },
   "outputs": [],
   "source": [
    "def alpha(err):\n",
    "    return 0.5*math.log((1.0-err)/(err))"
   ]
  },
  {
   "cell_type": "code",
   "execution_count": 86,
   "metadata": {
    "collapsed": false
   },
   "outputs": [],
   "source": [
    "def classifier_error(data,labels):\n",
    "    leng = len(data[0])\n",
    "    errors = [0 for i in range(0,2*leng)]\n",
    "    for coordinates in range(0,leng):\n",
    "        for email in range(0,len(data)):\n",
    "            if (weak_neg_learner(data[email][coordinates]) != labels[email]):\n",
    "                errors[coordinates+leng] += weights[email] \n",
    "            if(weak_pos_learner(data [email][coordinates]) != labels[email]):\n",
    "                errors[coordinates] += weights[email]\n",
    "    return errors"
   ]
  },
  {
   "cell_type": "code",
   "execution_count": 87,
   "metadata": {
    "collapsed": false
   },
   "outputs": [
    {
     "name": "stdout",
     "output_type": "stream",
     "text": [
      "[1]\n"
     ]
    },
    {
     "data": {
      "text/plain": [
       "0.0017271157167530224"
      ]
     },
     "execution_count": 87,
     "metadata": {},
     "output_type": "execute_result"
    }
   ],
   "source": [
    "weights = initialize()\n",
    "error = classifier_error(train_data[0:1],train_labels[0:1])\n",
    "print(train_labels[0:1])\n",
    "error[2001]"
   ]
  },
  {
   "cell_type": "code",
   "execution_count": 88,
   "metadata": {
    "collapsed": false
   },
   "outputs": [],
   "source": [
    "def classifier(error_ls):\n",
    "    err  = 9999.999\n",
    "    for i in range(0,len(error_ls)):\n",
    "        if (error_ls[i] < err):\n",
    "            err =  float(error_ls[i])\n",
    "            feature = i\n",
    "    return (feature,err)"
   ]
  },
  {
   "cell_type": "code",
   "execution_count": 89,
   "metadata": {
    "collapsed": false
   },
   "outputs": [
    {
     "name": "stdout",
     "output_type": "stream",
     "text": [
      "(10, 0.0)\n"
     ]
    }
   ],
   "source": [
    "print(classifier(error))"
   ]
  },
  {
   "cell_type": "code",
   "execution_count": 107,
   "metadata": {
    "collapsed": true
   },
   "outputs": [],
   "source": [
    "def initialize():\n",
    "    weights = []\n",
    "    w = float(1.0) / (len(train_data))\n",
    "    for i in range (0, len(train_data)):\n",
    "        weights.append(float(w))\n",
    "    return weights"
   ]
  },
  {
   "cell_type": "code",
   "execution_count": 126,
   "metadata": {
    "collapsed": false
   },
   "outputs": [],
   "source": [
    "def boosting(t,data,label):\n",
    "    output = []\n",
    "    leng = len(data[0])\n",
    "    for i in range (0,t):\n",
    "        classifiers = classifier_error(data,label)\n",
    "        feature_ht = classifier(classifiers)[0]\n",
    "        min_er = classifier(classifiers)[1]\n",
    "        alfa = alpha(min_er)\n",
    "        value = 0\n",
    "        for j in range(0, len(weights)):\n",
    "            if(feature_ht < leng):\n",
    "                value = math.exp(-alfa*label[j]*weak_pos_learner(data[j][feature_ht]))\n",
    "                weights[j] = (weights[j]*value)\n",
    "            if(feature_ht >= leng):\n",
    "                value = math.exp(-alfa*label[j]*weak_neg_learner(data[j][feature_ht-leng]))\n",
    "                weights[j] = (weights[j]*value)\n",
    "        s = sum(weights)\n",
    "        for j in range(0, len(weights)):\n",
    "            weights[j] = weights[j]/s\n",
    "        output.append((feature_ht,alfa))\n",
    "    return output"
   ]
  },
  {
   "cell_type": "code",
   "execution_count": 127,
   "metadata": {
    "collapsed": false
   },
   "outputs": [],
   "source": [
    "weights = initialize()\n",
    "output = boosting(4,train_data,train_labels)"
   ]
  },
  {
   "cell_type": "code",
   "execution_count": 128,
   "metadata": {
    "collapsed": true
   },
   "outputs": [],
   "source": [
    "def final_classifier(list_classifiers, email):\n",
    "    sum = 0\n",
    "    for i in range(0,len(list_classifiers)):\n",
    "        alpha = list_classifiers[i][1]\n",
    "        feature = list_classifiers[i][0]\n",
    "        if(feature < len(train_data[0])):\n",
    "            h = weak_pos_learner(email[feature])\n",
    "        else:\n",
    "            h = weak_neg_learner(email[feature-len(train_data[0])])\n",
    "        sum += alpha*h\n",
    "    return int(np.sign(sum))"
   ]
  },
  {
   "cell_type": "code",
   "execution_count": 129,
   "metadata": {
    "collapsed": false
   },
   "outputs": [
    {
     "data": {
      "text/plain": [
       "1"
      ]
     },
     "execution_count": 129,
     "metadata": {},
     "output_type": "execute_result"
    }
   ],
   "source": [
    "final_classifier(output,train_data[0])"
   ]
  },
  {
   "cell_type": "code",
   "execution_count": 130,
   "metadata": {
    "collapsed": false
   },
   "outputs": [],
   "source": [
    "def set_errors(data,label,classifiers):\n",
    "    error = 0\n",
    "    for i in range(0,len(data)):\n",
    "        if (final_classifier(classifiers,data[i]) != label[i]):\n",
    "            error += 1\n",
    "    print(error)\n",
    "    return float(error)/ float(len(data))\n",
    "            "
   ]
  },
  {
   "cell_type": "code",
   "execution_count": 131,
   "metadata": {
    "collapsed": false
   },
   "outputs": [
    {
     "name": "stdout",
     "output_type": "stream",
     "text": [
      "27\n"
     ]
    },
    {
     "data": {
      "text/plain": [
       "0.046632124352331605"
      ]
     },
     "execution_count": 131,
     "metadata": {},
     "output_type": "execute_result"
    }
   ],
   "source": [
    "set_errors(train_data,train_labels, output)"
   ]
  }
 ],
 "metadata": {
  "kernelspec": {
   "display_name": "Python 3",
   "language": "python",
   "name": "python3"
  },
  "language_info": {
   "codemirror_mode": {
    "name": "ipython",
    "version": 3
   },
   "file_extension": ".py",
   "mimetype": "text/x-python",
   "name": "python",
   "nbconvert_exporter": "python",
   "pygments_lexer": "ipython3",
   "version": "3.6.0"
  }
 },
 "nbformat": 4,
 "nbformat_minor": 2
}
