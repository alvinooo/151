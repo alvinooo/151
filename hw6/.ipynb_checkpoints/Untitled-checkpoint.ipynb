{
 "cells": [
  {
   "cell_type": "code",
   "execution_count": 315,
   "metadata": {
    "collapsed": false
   },
   "outputs": [],
   "source": [
    "import numpy as np\n",
    "import math as math\n",
    "\n",
    "train_data = []\n",
    "train_labels = []\n",
    "test_data = []\n",
    "test_labels = []\n",
    "dictionary = []\n",
    "\n",
    "with open(\"hw6train.txt\") as train_file:\n",
    "    for data_point in train_file.readlines():\n",
    "        vector = [int(i) for i in data_point.split()]\n",
    "        train_data.append(np.array(vector[:-1]))\n",
    "        train_labels.append(int(vector[-1]))\n",
    "\n",
    "with open(\"hw6test.txt\") as train_file:\n",
    "    for data_point in train_file.readlines():\n",
    "        vector = [int(i) for i in data_point.split()]\n",
    "        test_data.append(np.array(vector[:-1]))\n",
    "        test_labels.append(int(vector[-1]))\n",
    "    \n",
    "with open(\"dictionary.txt\") as dic_file:\n",
    "    for data_point in dic_file.readlines():\n",
    "        dictionary.append(data_point)\n"
   ]
  },
  {
   "cell_type": "code",
   "execution_count": 268,
   "metadata": {
    "collapsed": false
   },
   "outputs": [],
   "source": [
    "def weak_pos_learner(value):\n",
    "    return 1 if value == 1 else -1"
   ]
  },
  {
   "cell_type": "code",
   "execution_count": 269,
   "metadata": {
    "collapsed": false
   },
   "outputs": [],
   "source": [
    "def weak_neg_learner(value):\n",
    "    return 1 if value == 0 else -1    "
   ]
  },
  {
   "cell_type": "code",
   "execution_count": 270,
   "metadata": {
    "collapsed": true
   },
   "outputs": [],
   "source": [
    "def alpha(err):\n",
    "    return 0.5*math.log((1-err)/err)"
   ]
  },
  {
   "cell_type": "code",
   "execution_count": 271,
   "metadata": {
    "collapsed": false
   },
   "outputs": [],
   "source": [
    "def classifier_error(data,labels):\n",
    "    leng = len(data[0])\n",
    "    errors = [0 for i in range(0,2*leng)]\n",
    "    for coordinates in range(0,leng):\n",
    "        for email in range(0,len(data)):\n",
    "            if (weak_neg_learner(data[email][coordinates]) != labels[email]):\n",
    "                errors[coordinates+leng] += weights[email] \n",
    "            if(weak_pos_learner(data[email][coordinates]) != labels[email]):\n",
    "                errors[coordinates] += weights[email]\n",
    "    return errors"
   ]
  },
  {
   "cell_type": "code",
   "execution_count": 281,
   "metadata": {
    "collapsed": false
   },
   "outputs": [],
   "source": [
    "def classifier(error_ls):\n",
    "    err  = 999999999\n",
    "    for i in range(0,len(error_ls)):\n",
    "        if (error_ls[i] < err):\n",
    "            err =  float(error_ls[i])\n",
    "            feature = i\n",
    "    return (feature,err)"
   ]
  },
  {
   "cell_type": "code",
   "execution_count": 274,
   "metadata": {
    "collapsed": true
   },
   "outputs": [],
   "source": [
    "def initialize(data):\n",
    "    weights = []\n",
    "    w = float(1.0) / (len(data))\n",
    "    for i in range (0, len(data)):\n",
    "        weights.append(float(w))\n",
    "    return weights"
   ]
  },
  {
   "cell_type": "code",
   "execution_count": 301,
   "metadata": {
    "collapsed": false
   },
   "outputs": [],
   "source": [
    "def boosting(t,data,label,weight):\n",
    "    output = []\n",
    "    leng = len(data[0])\n",
    "    for i in range (0,t):\n",
    "        classifiers = classifier_error(data,label)\n",
    "        feature_ht = classifier(classifiers)[0]\n",
    "        min_er = classifier(classifiers)[1]\n",
    "        alfa = alpha(min_er)\n",
    "        value = 0\n",
    "        for j in range(0, len(weight)):\n",
    "            if(feature_ht < leng):\n",
    "                value = math.exp(-alfa*label[j]*weak_pos_learner(data[j][feature_ht]))\n",
    "                weight[j] = (weight[j]*value)\n",
    "            if(feature_ht >= leng):\n",
    "                value = math.exp(-alfa*label[j]*weak_neg_learner(data[j][feature_ht-leng]))\n",
    "                weight[j] = (weight[j]*value)\n",
    "        w = sum(weight)\n",
    "        for i in range(0,len(weight)):\n",
    "            weight[i] = weight[i]/w\n",
    "        output.append((feature_ht,alfa))\n",
    "    return output"
   ]
  },
  {
   "cell_type": "code",
   "execution_count": 288,
   "metadata": {
    "collapsed": true
   },
   "outputs": [],
   "source": [
    "def final_classifier(list_classifiers, email):\n",
    "    sum = 0\n",
    "    for i in range(0,len(list_classifiers)):\n",
    "        alpha = list_classifiers[i][1]\n",
    "        feature = list_classifiers[i][0]\n",
    "        if(feature < len(train_data[0])):\n",
    "            h = weak_pos_learner(email[feature])\n",
    "        else:\n",
    "            h = weak_neg_learner(email[feature-len(train_data[0])])\n",
    "        sum += alpha*h\n",
    "    return np.sign(sum)"
   ]
  },
  {
   "cell_type": "code",
   "execution_count": 308,
   "metadata": {
    "collapsed": false
   },
   "outputs": [],
   "source": [
    "def set_errors(data,label,classifiers):\n",
    "    error = 0\n",
    "    for i in range(0,len(data)):\n",
    "        if (final_classifier(classifiers,data[i])!= label[i]):\n",
    "            error += 1\n",
    "    return float(error)/len(data)"
   ]
  },
  {
   "cell_type": "code",
   "execution_count": 304,
   "metadata": {
    "collapsed": false
   },
   "outputs": [
    {
     "name": "stdout",
     "output_type": "stream",
     "text": [
      "23\n"
     ]
    },
    {
     "data": {
      "text/plain": [
       "0.051111111111111114"
      ]
     },
     "execution_count": 304,
     "metadata": {},
     "output_type": "execute_result"
    }
   ],
   "source": [
    "weights = initialize(train_data)\n",
    "output = boosting(4,train_data,train_labels,weights)\n",
    "set_errors(train_data,train_labels, output)"
   ]
  },
  {
   "cell_type": "code",
   "execution_count": 303,
   "metadata": {
    "collapsed": false
   },
   "outputs": [
    {
     "name": "stdout",
     "output_type": "stream",
     "text": [
      "5\n"
     ]
    },
    {
     "data": {
      "text/plain": [
       "0.03875968992248062"
      ]
     },
     "execution_count": 303,
     "metadata": {},
     "output_type": "execute_result"
    }
   ],
   "source": [
    "test_weights = initialize(test_data)\n",
    "test_output = boosting(4,test_data,test_labels,test_weights)\n",
    "set_errors(test_data,test_labels, output)"
   ]
  },
  {
   "cell_type": "code",
   "execution_count": 309,
   "metadata": {
    "collapsed": false
   },
   "outputs": [
    {
     "name": "stdout",
     "output_type": "stream",
     "text": [
      "Training error for round =  0\n",
      "0.06444444444444444\n",
      "Training error for round =  1\n",
      "0.03777777777777778\n",
      "Training error for round =  2\n",
      "0.08666666666666667\n",
      "Training error for round =  3\n",
      "0.024444444444444446\n",
      "Training error for round =  4\n",
      "0.006666666666666667\n"
     ]
    }
   ],
   "source": [
    "#TRAINING SET 3,7,10,15,20\n",
    "weights = initialize(train_data)\n",
    "output = []\n",
    "output.append(boosting(3,train_data,train_labels,weights))\n",
    "output.append(boosting(7,train_data,train_labels,weights))\n",
    "output.append(boosting(10,train_data,train_labels,weights))\n",
    "output.append(boosting(15,train_data,train_labels,weights))\n",
    "output.append(boosting(20,train_data,train_labels,weights))\n",
    "for i in range(0,len(output)):\n",
    "    print(\"Training error for round = \", i)\n",
    "    print(set_errors(train_data,train_labels, output[i]))"
   ]
  },
  {
   "cell_type": "code",
   "execution_count": 328,
   "metadata": {
    "collapsed": false
   },
   "outputs": [
    {
     "name": "stdout",
     "output_type": "stream",
     "text": [
      "[(6700, 0.4672760301337567), (429, 0.4624217000027914), (4666, 0.4634867666695032), (3968, 0.526820294801844), (4573, 0.4175755017389978), (2600, 0.4831669552629475), (6112, 0.3794343479766398), (2001, 0.44693630063773016), (7604, 0.4012313121157339), (3612, 0.4298826483976152)]\n"
     ]
    }
   ],
   "source": [
    "dictionary_output_10 = (output[2])\n",
    "print(dictionary_output_10)"
   ]
  },
  {
   "cell_type": "code",
   "execution_count": 327,
   "metadata": {
    "collapsed": false
   },
   "outputs": [
    {
     "name": "stdout",
     "output_type": "stream",
     "text": [
      "Absence of word :  someone\n",
      "\n",
      "Present of word :  book\n",
      "\n",
      "Absence of word :  moha\n",
      "\n",
      "Present of word :  www\n",
      "\n",
      "Absence of word :  michigan\n",
      "\n",
      "Present of word :  page\n",
      "\n",
      "Absence of word :  restaurant\n",
      "\n",
      "Present of word :  language\n",
      "\n",
      "Absence of word :  urbana\n",
      "\n",
      "Present of word :  theory\n",
      "\n"
     ]
    }
   ],
   "source": [
    "for i in range(0,10):\n",
    "    feature = dictionary_output_10[i][0]\n",
    "    if (feature < 4003):\n",
    "        print(\"Present of word : \" , dictionary[feature])\n",
    "    else:\n",
    "        print(\"Absence of word : \" , dictionary[int(feature/2)])"
   ]
  },
  {
   "cell_type": "code",
   "execution_count": 322,
   "metadata": {
    "collapsed": false
   },
   "outputs": [],
   "source": [
    "#TEST SET 3,7,10,15,20\n",
    "test_weights = initialize(test_data)\n",
    "test_output = []\n",
    "test_output.append(boosting(3,test_data,test_labels,test_weights))\n",
    "test_output.append(boosting(7,test_data,test_labels,test_weights))\n",
    "test_output.append(boosting(10,test_data,test_labels,test_weights))\n",
    "test_output.append(boosting(15,test_data,test_labels,test_weights))\n",
    "test_output.append(boosting(20,test_data,test_labels,test_weights))\n"
   ]
  },
  {
   "cell_type": "code",
   "execution_count": 323,
   "metadata": {
    "collapsed": false
   },
   "outputs": [
    {
     "name": "stdout",
     "output_type": "stream",
     "text": [
      "Test error for round =  0\n",
      "0.03875968992248062\n",
      "Test error for round =  1\n",
      "0.06976744186046512\n",
      "Test error for round =  2\n",
      "0.13178294573643412\n",
      "Test error for round =  3\n",
      "0.05426356589147287\n",
      "Test error for round =  4\n",
      "0.023255813953488372\n"
     ]
    }
   ],
   "source": [
    "for i in range(0,len(test_output)):\n",
    "    print(\"Test error for round = \", i)\n",
    "    print(set_errors(test_data,test_labels, output[i]))"
   ]
  }
 ],
 "metadata": {
  "kernelspec": {
   "display_name": "Python 3",
   "language": "python",
   "name": "python3"
  },
  "language_info": {
   "codemirror_mode": {
    "name": "ipython",
    "version": 3
   },
   "file_extension": ".py",
   "mimetype": "text/x-python",
   "name": "python",
   "nbconvert_exporter": "python",
   "pygments_lexer": "ipython3",
   "version": "3.6.0"
  }
 },
 "nbformat": 4,
 "nbformat_minor": 2
}
