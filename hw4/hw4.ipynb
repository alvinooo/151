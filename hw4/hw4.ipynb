{
 "cells": [
  {
   "cell_type": "code",
   "execution_count": 3,
   "metadata": {
    "collapsed": false
   },
   "outputs": [],
   "source": [
    "import sys\n",
    "import numpy as np\n",
    "\n",
    "#Load train data\n",
    "train_data = []\n",
    "train_labels = []\n",
    "with open(\"hw4train.txt\", \"r\") as train_file:\n",
    "    for data_point in train_file.readlines():\n",
    "        vector = [float(i) for i in data_point.split()]\n",
    "        train_data.append(np.array(vector[:-1]))\n",
    "        train_labels.append(int(vector[-1]))"
   ]
  },
  {
   "cell_type": "code",
   "execution_count": 4,
   "metadata": {
    "collapsed": false,
    "scrolled": true
   },
   "outputs": [
    {
     "name": "stdout",
     "output_type": "stream",
     "text": [
      "3000\n",
      "3000\n"
     ]
    }
   ],
   "source": [
    "print (len(train_data))\n",
    "print (len(train_labels))\n"
   ]
  },
  {
   "cell_type": "code",
   "execution_count": 5,
   "metadata": {
    "collapsed": true
   },
   "outputs": [],
   "source": [
    "test_data = []\n",
    "test_labels = []\n",
    "with open(\"hw4test.txt\", \"r\") as test_file:\n",
    "    for data_point in test_file.readlines():\n",
    "        vector = [float(i) for i in data_point.split()]\n",
    "        test_data.append(np.array(vector[:-1]))\n",
    "        test_labels.append(int(vector[-1]))"
   ]
  },
  {
   "cell_type": "code",
   "execution_count": 96,
   "metadata": {
    "collapsed": false
   },
   "outputs": [],
   "source": [
    "train_12 = [pair for pair in filter(lambda pair:pair[1] == 1 or pair[1] == 2, zip(train_data,train_labels))]\n",
    "train_data12, train_label12 = zip(*train_12)\n",
    "train_label12 =[x for x in map(lambda x:-1 if x == 1 else 1,train_label12)]\n",
    "\n",
    "test_12 = [pair for pair in filter(lambda pair:pair[1] == 1 or pair[1] == 2, zip(test_data,test_labels))]\n",
    "test_data12, test_label12 = zip(*test_12)\n",
    "test_label12 =[x for x in map(lambda x:-1 if x == 1 else 1,test_label12)]"
   ]
  },
  {
   "cell_type": "code",
   "execution_count": 97,
   "metadata": {
    "collapsed": false
   },
   "outputs": [
    {
     "name": "stdout",
     "output_type": "stream",
     "text": [
      "377\n",
      "377\n"
     ]
    }
   ],
   "source": [
    "print (len(test_data12))\n",
    "print (len(test_label12))\n"
   ]
  },
  {
   "cell_type": "code",
   "execution_count": 8,
   "metadata": {
    "collapsed": false
   },
   "outputs": [],
   "source": [
    "def perceptron(train, label, t): \n",
    "    wlist = [0]*len(train[0]) #hyperplane list.\n",
    "    for i in range(0,t): \n",
    "        for data, label2 in zip(train,label):\n",
    "            if label2*np.dot(wlist,data) <= 0:\n",
    "                wlist = wlist+label2*data\n",
    "    return wlist"
   ]
  },
  {
   "cell_type": "code",
   "execution_count": 34,
   "metadata": {
    "collapsed": false
   },
   "outputs": [
    {
     "data": {
      "text/plain": [
       "819"
      ]
     },
     "execution_count": 34,
     "metadata": {},
     "output_type": "execute_result"
    }
   ],
   "source": [
    "len(perceptron(train_data12,train_label12,3))\n"
   ]
  },
  {
   "cell_type": "code",
   "execution_count": 20,
   "metadata": {
    "collapsed": true
   },
   "outputs": [],
   "source": [
    "def error(data,label,wlist):\n",
    "    error = 0\n",
    "    for d,l in zip(data,label):\n",
    "        if np.dot(wlist,d)*l <= 0:\n",
    "            error = error + 1\n",
    "    return float(error)/len (label)"
   ]
  },
  {
   "cell_type": "code",
   "execution_count": 22,
   "metadata": {
    "collapsed": false
   },
   "outputs": [
    {
     "name": "stdout",
     "output_type": "stream",
     "text": [
      "0.02110091743119266\n"
     ]
    }
   ],
   "source": [
    "wlist = perceptron(train_data12, train_label12,3)\n",
    "print(error(train_data12, train_label12,wlist))\n"
   ]
  },
  {
   "cell_type": "code",
   "execution_count": 77,
   "metadata": {
    "collapsed": false
   },
   "outputs": [],
   "source": [
    "def voted_perceptron_train(train,label,t):\n",
    "    w =np.array([0]*len(train[0]))\n",
    "    c = 1\n",
    "    result = []\n",
    "    for i in range(0,t):\n",
    "        for data, label2 in zip(train,label):\n",
    "            if label2*np.dot(w,data) <= 0:\n",
    "                result.append([w,c])\n",
    "                w = w +label2*data\n",
    "                c  = 1\n",
    "            else:\n",
    "                c = c + 1\n",
    "    return result"
   ]
  },
  {
   "cell_type": "code",
   "execution_count": 115,
   "metadata": {
    "collapsed": false
   },
   "outputs": [
    {
     "name": "stdout",
     "output_type": "stream",
     "text": [
      "Training Error  0.06788990825688074\n"
     ]
    }
   ],
   "source": [
    "result = voted_perceptron_train(train_data12,train_label12,1)\n",
    "weights, counts = zip(*result)\n",
    "len(result)\n",
    "print (\"Training Error \", error_voted(train_data12, train_label12, weights,counts))"
   ]
  },
  {
   "cell_type": "code",
   "execution_count": 79,
   "metadata": {
    "collapsed": false
   },
   "outputs": [],
   "source": [
    "weights,counts = zip(*voted_perceptron_train(train_data12,train_label12,1)\n",
    "def error_voted(data,label,weights,counts):\n",
    "    error = 0\n",
    "    for d,l in zip(data,label):\n",
    "        if np.dot(counts,np.sign(np.dot(weights,d)))*l <= 0:\n",
    "            error = error+1\n",
    "    return float (error)/ len(label)"
   ]
  },
  {
   "cell_type": "code",
   "execution_count": 122,
   "metadata": {
    "collapsed": false
   },
   "outputs": [
    {
     "name": "stdout",
     "output_type": "stream",
     "text": [
      "VOTED PERCEPTRON\n",
      "Pass 1\n",
      "166\n",
      "Training Error  0.06788990825688074\n",
      "Test Error  0.08753315649867374\n",
      "Pass 2\n",
      "210\n",
      "Training Error  0.04128440366972477\n",
      "Test Error  0.0610079575596817\n",
      "Pass 3\n",
      "241\n",
      "Training Error  0.030275229357798167\n",
      "Test Error  0.04509283819628647\n",
      "Pass 4\n",
      "268\n",
      "Training Error  0.025688073394495414\n",
      "Test Error  0.04509283819628647\n"
     ]
    }
   ],
   "source": [
    "print(\"VOTED PERCEPTRON\")\n",
    "for i in range (1,5):\n",
    "    print(\"Pass\",i)\n",
    "    weights, counts = zip(*voted_perceptron_train(train_data12,train_label12,i))\n",
    "    print(len(weights))\n",
    "    print (\"Training Error \", error_voted(train_data12, train_label12, weights,counts))\n",
    "    print (\"Test Error \", error_voted(test_data12, test_label12, weights,counts))"
   ]
  },
  {
   "cell_type": "code",
   "execution_count": 82,
   "metadata": {
    "collapsed": false
   },
   "outputs": [],
   "source": [
    "def error_average(data,label,weights,counts):\n",
    "    error = 0\n",
    "    for d,l in zip(data,label):\n",
    "        value = sum([w*c for w,c in zip(weights,counts)])\n",
    "        if (np.dot(value,d)) * l <= 0:\n",
    "            error += 1\n",
    "    return float (error)/ len(label)"
   ]
  },
  {
   "cell_type": "code",
   "execution_count": 109,
   "metadata": {
    "collapsed": false
   },
   "outputs": [
    {
     "name": "stdout",
     "output_type": "stream",
     "text": [
      "VOTED AVERAGE\n",
      "Pass 1\n",
      "Training Error  0.0798165137614679\n",
      "Test Error  0.11671087533156499\n",
      "Pass 2\n",
      "Training Error  0.05412844036697248\n",
      "Test Error  0.08222811671087533\n",
      "Pass 3\n",
      "Training Error  0.03761467889908257\n",
      "Test Error  0.0610079575596817\n",
      "Pass 4\n",
      "Training Error  0.03394495412844037\n",
      "Test Error  0.050397877984084884\n"
     ]
    }
   ],
   "source": [
    "print(\"VOTED AVERAGE\")\n",
    "for i in range (1,5):\n",
    "    print(\"Pass\",i)\n",
    "    weights, counts = zip(*voted_perceptron_train(train_data12,train_label12,i))\n",
    "    print (\"Training Error \", error_average(train_data12, train_label12, weights,counts))\n",
    "    print (\"Test Error \", error_average(test_data12, test_label12, weights,counts))"
   ]
  },
  {
   "cell_type": "code",
   "execution_count": 120,
   "metadata": {
    "collapsed": false
   },
   "outputs": [],
   "source": [
    "result = voted_perceptron_train(train_data12,train_label12,3)\n",
    "descendingSort = sorted(result,key=lambda x:x[1],reverse=True)\n"
   ]
  },
  {
   "cell_type": "code",
   "execution_count": null,
   "metadata": {
    "collapsed": true
   },
   "outputs": [],
   "source": []
  },
  {
   "cell_type": "code",
   "execution_count": 1,
   "metadata": {
    "collapsed": true
   },
   "outputs": [],
   "source": [
    "# #Load test data\n",
    "# test_data = []\n",
    "# test_labels = []\n",
    "# with open(\"hw4test.txt\", \"r\") as test_file:\n",
    "#     for data_point in test_file.readlines():\n",
    "#         vector = [float(i) for i in data_point.split()]\n",
    "#         test_data.append(np.array(vector[:-1]))\n",
    "#         test_labels.append(int(vector[-1]))\n",
    "\n",
    "# #Load train data for Q1\n",
    "# train_data12 = []\n",
    "# train_label12 = []\n",
    "\n",
    "# for data in train_data\n",
    "# \tvector = [float(i) for i in data.split()]\n",
    "# \tif(train_labels[i] = 1 || train_labels[i] = 2) \n",
    "# \t\ttrain_data12.append(np.array(vector))\n",
    "# \t\ttrain_label12.append(int(train_labels[i]))\n",
    "\n",
    "# #Load test data for Q1\n",
    "# test_data12 = []\n",
    "# test_label12 = []\n",
    "\n",
    "# for data in train_data\n",
    "# \tvector = [float(i) for i in data.split()]\n",
    "# \tif(train_labels[i] = 1) \n",
    "# \t\ttrain_data12.append(np.array(vector))\n",
    "# \t\ttrain_label12.append(int(-1))\n",
    "# \tif(train_labels[i] = 2)\n",
    "# \t\ttrain_data12.append(np.array(vector))\n",
    "# \t\ttrain_label12.append(int(1))\n",
    "\n",
    "# #conversion of labels\n",
    "# #train_label12[test_label12 == 1] = -1\n",
    "# #train_label12[test_label12 == 2] = 1\n",
    "# #test_label12[test_label12 == 1] = -1\n",
    "# #test_label12[test_label12 == 2] = 1\n",
    "\n",
    "\n",
    "# def perceptron(train, label, t) \n",
    "# \twlist = [0]*train.shape[1] #hyperplane list.\n",
    "# \tfor i in range(0,t) \n",
    "# \t\tfor j in range(0,train.shape[0]) \n",
    "# \t\t\tif label[j]*np.dot(w,train[j]) <= 0\n",
    "# \t\t\t\twlist = wlist+label[j]*train[j]\n",
    "# \treturn wlist\n",
    "\n",
    "# #training\n",
    "# def test_perceptron(train, wlist) \n",
    "# \t if train.ndim > 1:\n",
    "#         return np.array([test_perceptron(train, wlist) for x in train]).reshape((-1,))\n",
    "#     return np.sign(np.dot(train, wlist))\n",
    "\n",
    "\n",
    "# def voted_perceptron_train(train,label,t)\n",
    "# \tw =[0]*train.shape[1]\n",
    "# \tc = 1\n",
    "# \tresult = []\n",
    "# \tfor i in range(0,t) \n",
    "# \t\tfor j in range(0,train.shape[0]) \n",
    "# \t\t\tif label[j]*np.dot(w,train[j]) <= 0\n",
    "# \t\t\t\twnew = w +label[j]*train[j]\n",
    "# \t\t\t\tw  = np.stack(w,wnew) \n",
    "# \t\t\t\tc  = 1\n",
    "# \t\t\t\tresult.append([w,c])\n",
    "# \t\t\telse:\n",
    "# \t\t\t\tc = c + 1\n",
    "# \treturn w,c\n",
    "\n",
    "# #NOT FINISHED PSEUDO-CODE yet\n",
    "# def average_perceptron_train(train,label,t) \n",
    "# \tw =[0]*train.shape[1]\n",
    "# \tc = 1\n",
    "# \taverageP = [0.0]*train.shape[1]\n",
    "\n",
    "# \tfor i in range(0,t) \n",
    "# \t\tfor j in range(0,train.shape[0]) \n",
    "# \t\t\tif label[j]*np.dot(w,train[j]) <= 0\n",
    "# \t\t\t\tvalue = [c*x for x in w]\n",
    "# \t\t\t\twnew = w +label[j]*train[j]\n",
    "# \t\t\t\tw  = np.stack(w,wnew) \n",
    "# \t\t\t\tc  = 1\n",
    "# \t\t\t\tresult.append([w,c])\n",
    "\n",
    "# \t\t\telse:\n",
    "# \t\t\t\tc = c + 1\n",
    "# \treturn w,c\n",
    "\t\t\t\n",
    "\n",
    "\n",
    "# #TESTING\n",
    "\n",
    "# wlist = perceptron_train(train_data12, test_label12, 3) \n",
    "# label_predict = test_perceptron(train,)"
   ]
  }
 ],
 "metadata": {
  "kernelspec": {
   "display_name": "Python 3",
   "language": "python",
   "name": "python3"
  },
  "language_info": {
   "codemirror_mode": {
    "name": "ipython",
    "version": 3
   },
   "file_extension": ".py",
   "mimetype": "text/x-python",
   "name": "python",
   "nbconvert_exporter": "python",
   "pygments_lexer": "ipython3",
   "version": "3.6.0"
  }
 },
 "nbformat": 4,
 "nbformat_minor": 2
}
